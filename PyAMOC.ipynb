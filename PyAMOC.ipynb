{
 "cells": [
  {
   "cell_type": "markdown",
   "id": "4e11d45e-abe3-4db7-a350-54af450ef372",
   "metadata": {},
   "source": [
    "# PyAMOC\n",
    "\n",
    "Python version of AMOC curve, based on translation from [R  implementation](https://miningthedetails.com/blog/r/AMOC/).\n",
    "\n",
    "For details on AMOC implementation, see Fawcett and Provost, [Activity Monitioring: Noticing Interesting Behavior](https://dl.acm.org/doi/abs/10.1145/312129.312195)"
   ]
  },
  {
   "cell_type": "code",
   "execution_count": 366,
   "id": "08441913-8efc-4578-bc8c-a9daba59f26a",
   "metadata": {
    "tags": []
   },
   "outputs": [],
   "source": [
    "import pandas as pd\n",
    "import matplotlib\n",
    "import random\n",
    "import numpy as np\n",
    "import matplotlib.pyplot as plt\n",
    "import matplotlib as mpl"
   ]
  },
  {
   "cell_type": "markdown",
   "id": "e5dd6891-3b3f-402f-8c43-d49f0608cd73",
   "metadata": {},
   "source": [
    "## Test data generation code"
   ]
  },
  {
   "cell_type": "code",
   "execution_count": 347,
   "id": "d6e3e23a-f82a-42c8-a320-cbf044bdd411",
   "metadata": {
    "tags": []
   },
   "outputs": [],
   "source": [
    "def generate_spike(maxlen,spike_length = 100, stdev = 1, mean = 0):\n",
    "    # randomly select a starting point for positive activity\n",
    "    spike_start  =  random.randint(1,maxlen)\n",
    "    spike_end    = spike_start + spike_length\n",
    "   \n",
    "    # create the baseline signal\n",
    "    base = np.zeros(spike_start)\n",
    "    sinwave = np.sin(np.arange(0, 1, 1/spike_length))\n",
    "    vals = np.concatenate([base,sinwave])\n",
    "   \n",
    "    #perturb to add noise\n",
    "    noise = np.random.normal(mean,stdev,spike_end)\n",
    "    y = vals+noise\n",
    "  \n",
    "    # create labeled data for activity\n",
    "    # first on the base\n",
    "    positive = np.zeros(len(base))\n",
    "    # then on the spike\n",
    "    positive_spike = np.ones(len(sinwave))\n",
    "    positive =  np.concatenate([positive,positive_spike])\n",
    "    return(pd.DataFrame({\"x\": np.arange(len(y)),\"y\":y,\"positive\":positive}))\n",
    "\n",
    "\n",
    "def generate_data_set(spike_length=100):\n",
    "    ids = range(1,101)\n",
    "    # create empty data frame\n",
    "    xmax  =1000 \n",
    "    res=[]\n",
    "    \n",
    "    for ID in ids:\n",
    "        g = generate_spike(xmax,spike_length)\n",
    "        res.append((ID,g))\n",
    "    return res"
   ]
  },
  {
   "cell_type": "code",
   "execution_count": 348,
   "id": "53add8eb-4e32-4b79-865f-09e6066f5b6e",
   "metadata": {
    "tags": []
   },
   "outputs": [
    {
     "data": {
      "text/html": [
       "<div>\n",
       "<style scoped>\n",
       "    .dataframe tbody tr th:only-of-type {\n",
       "        vertical-align: middle;\n",
       "    }\n",
       "\n",
       "    .dataframe tbody tr th {\n",
       "        vertical-align: top;\n",
       "    }\n",
       "\n",
       "    .dataframe thead th {\n",
       "        text-align: right;\n",
       "    }\n",
       "</style>\n",
       "<table border=\"1\" class=\"dataframe\">\n",
       "  <thead>\n",
       "    <tr style=\"text-align: right;\">\n",
       "      <th></th>\n",
       "      <th>x</th>\n",
       "      <th>y</th>\n",
       "      <th>positive</th>\n",
       "    </tr>\n",
       "  </thead>\n",
       "  <tbody>\n",
       "    <tr>\n",
       "      <th>0</th>\n",
       "      <td>0</td>\n",
       "      <td>0.643121</td>\n",
       "      <td>0.0</td>\n",
       "    </tr>\n",
       "    <tr>\n",
       "      <th>1</th>\n",
       "      <td>1</td>\n",
       "      <td>2.119897</td>\n",
       "      <td>0.0</td>\n",
       "    </tr>\n",
       "    <tr>\n",
       "      <th>2</th>\n",
       "      <td>2</td>\n",
       "      <td>-0.124309</td>\n",
       "      <td>0.0</td>\n",
       "    </tr>\n",
       "    <tr>\n",
       "      <th>3</th>\n",
       "      <td>3</td>\n",
       "      <td>1.086971</td>\n",
       "      <td>0.0</td>\n",
       "    </tr>\n",
       "    <tr>\n",
       "      <th>4</th>\n",
       "      <td>4</td>\n",
       "      <td>0.672684</td>\n",
       "      <td>0.0</td>\n",
       "    </tr>\n",
       "    <tr>\n",
       "      <th>...</th>\n",
       "      <td>...</td>\n",
       "      <td>...</td>\n",
       "      <td>...</td>\n",
       "    </tr>\n",
       "    <tr>\n",
       "      <th>379</th>\n",
       "      <td>379</td>\n",
       "      <td>0.243368</td>\n",
       "      <td>1.0</td>\n",
       "    </tr>\n",
       "    <tr>\n",
       "      <th>380</th>\n",
       "      <td>380</td>\n",
       "      <td>1.349283</td>\n",
       "      <td>1.0</td>\n",
       "    </tr>\n",
       "    <tr>\n",
       "      <th>381</th>\n",
       "      <td>381</td>\n",
       "      <td>0.261071</td>\n",
       "      <td>1.0</td>\n",
       "    </tr>\n",
       "    <tr>\n",
       "      <th>382</th>\n",
       "      <td>382</td>\n",
       "      <td>1.879226</td>\n",
       "      <td>1.0</td>\n",
       "    </tr>\n",
       "    <tr>\n",
       "      <th>383</th>\n",
       "      <td>383</td>\n",
       "      <td>-0.066772</td>\n",
       "      <td>1.0</td>\n",
       "    </tr>\n",
       "  </tbody>\n",
       "</table>\n",
       "<p>384 rows × 3 columns</p>\n",
       "</div>"
      ],
      "text/plain": [
       "       x         y  positive\n",
       "0      0  0.643121       0.0\n",
       "1      1  2.119897       0.0\n",
       "2      2 -0.124309       0.0\n",
       "3      3  1.086971       0.0\n",
       "4      4  0.672684       0.0\n",
       "..   ...       ...       ...\n",
       "379  379  0.243368       1.0\n",
       "380  380  1.349283       1.0\n",
       "381  381  0.261071       1.0\n",
       "382  382  1.879226       1.0\n",
       "383  383 -0.066772       1.0\n",
       "\n",
       "[384 rows x 3 columns]"
      ]
     },
     "execution_count": 348,
     "metadata": {},
     "output_type": "execute_result"
    }
   ],
   "source": [
    "g=generate_spike(1000,100)\n",
    "g"
   ]
  },
  {
   "cell_type": "markdown",
   "id": "2c9d2704-b54c-456f-8f30-dc4c45d85719",
   "metadata": {},
   "source": [
    "## calculating and graphing results"
   ]
  },
  {
   "cell_type": "code",
   "execution_count": 361,
   "id": "51823a94-e65d-4f43-a8cf-4d593da84857",
   "metadata": {
    "tags": []
   },
   "outputs": [],
   "source": [
    "def get_cumulative_sum(y,reference):\n",
    "    n = len(y)\n",
    "    s = [0]*n\n",
    "    s=np.zeros(n)\n",
    "    if(n==1):\n",
    "        return(np.array(s))\n",
    "\n",
    "    for i in range(2,n):\n",
    "        s[i] = max(0,s[(i-1)] + y[i]-reference[i]) \n",
    "    return(np.array(s))\n",
    "\n",
    "def summarize_sequence(ID,g):\n",
    "    x = g[\"x\"]\n",
    "    y = g[\"y\"] \n",
    "    positive  = g['positive']\n",
    "      \n",
    "    reference = np.cumsum(y)/np.arange(1,len(y)+1)\n",
    "    s = get_cumulative_sum(y, reference)\n",
    "    ids = np.repeat(ID,len(y))\n",
    "    temp = pd.DataFrame({'ID':ids,\n",
    "                             'x':x,\n",
    "                             'y':y,\n",
    "                             'reference':reference,\n",
    "                             's':s,\n",
    "                             'positive':positive})\n",
    "    return temp\n",
    "\n",
    "# summarize_dataset \n",
    "# score_list is a list of tuples of ID and tables/data frame\n",
    "# each data frame has an index column, a y value (score) and a a truth value \n",
    "# labeled \"positive\"  - 0 if false, 1 if true\n",
    "def summarize_dataset(score_list):\n",
    "    ds = pd.DataFrame(columns=['ID','x','y','reference','s','positive'])\n",
    "  \n",
    "    for entry in score_list:\n",
    "        ID =entry[0]\n",
    "        # sequence\n",
    "        g =entry[1]\n",
    "        temp = summarize_sequence(ID,g)\n",
    "        ds = pd.concat([ds,temp])\n",
    "    return ds\n",
    "\n",
    "# must call gen_scores on result\n",
    "# cutoff is threshold - when do we stop detection?\n",
    "def gen_scores(ds,cutoff=100):\n",
    "    thresholds  = list(np.arange(-20,120,0.5))\n",
    "    rows=[]\n",
    "    # score function \n",
    "    # 1 - alarm triggered within 100 samples of the onset of positive\n",
    "    # activity\n",
    "    # 0 - all other scenarios\n",
    "    for t in thresholds: \n",
    "        ds['detected']=ds['s']>t\n",
    "        ds['false_alarm']=(ds['detected']== True) & (ds['positive']==0)\n",
    "        ds['score']=(ds['detected']==True) & (ds['positive']==1)\n",
    "        ds['score']=ds['score'].replace({True:1,False:0})\n",
    "        \n",
    "        scores = ds.groupby('ID')['score'].max()\n",
    "        false_alarm_sum = ds.groupby('ID')['false_alarm'].sum()\n",
    "        samples = ds.groupby('ID')['x'].count()- cutoff\n",
    "    \n",
    "        #calculate summaries\n",
    "        false_alarm_rate = sum(false_alarm_sum)/sum(samples)\n",
    "        total_score      = scores.mean()\n",
    "\n",
    "        rows.append([t,false_alarm_rate,total_score])\n",
    "        \n",
    "    final_scores = pd.DataFrame(rows,columns=['threshold','false_alarm_rate','score'])\n",
    "    return final_scores\n",
    "\n",
    "def score_dataset(res,cutoff=100):\n",
    "    ds= summarize_dataset(res)\n",
    "    scores = gen_scores(ds,cutoff)\n",
    "\n",
    "def gen_plot(final_scores):\n",
    "    scores.plot(x=\"false_alarm_rate\",y=\"score\",xlabel =\"False Alarm Rate\", ylabel=\"Average score\",marker=\"o\",mec=\"#E4002B\",color=\"#7A99AC\") \n",
    "    plt.title(\"Activity Monitor Operating Characteristic (AMOC)\")\n",
    "    ax=plt.subplot()\n",
    "    ax.set_xlim(-0.05,1.05)\n",
    "    ax.set_ylim(-0.05,1.05)"
   ]
  },
  {
   "cell_type": "markdown",
   "id": "483dbf93-9abb-41d6-a51a-f9a2eee512b0",
   "metadata": {
    "tags": []
   },
   "source": [
    "### input\n",
    "\n",
    "Input is a list of tuples.\n",
    "Each tuple has an integer ID and then a DataFrame\n",
    "The data Frame has three columns:\n",
    "1. x -  the index in the list\n",
    "2. y -  the value being monitored at that time point\n",
    "3. positive - Truth value - 1 if the event is observed, 0 if not."
   ]
  },
  {
   "cell_type": "code",
   "execution_count": 362,
   "id": "3af804dd-18ff-44bb-b667-bd6c748cec16",
   "metadata": {
    "tags": []
   },
   "outputs": [],
   "source": [
    "res = generate_data_set()"
   ]
  },
  {
   "cell_type": "code",
   "execution_count": 363,
   "id": "cbf1623b-3b25-48d3-9edb-0822cd3807a5",
   "metadata": {
    "tags": []
   },
   "outputs": [
    {
     "data": {
      "text/plain": [
       "(1,\n",
       "          x         y  positive\n",
       " 0        0 -1.300829       0.0\n",
       " 1        1  1.621085       0.0\n",
       " 2        2 -0.547722       0.0\n",
       " 3        3  0.815299       0.0\n",
       " 4        4 -0.354832       0.0\n",
       " ...    ...       ...       ...\n",
       " 1089  1089  0.325553       1.0\n",
       " 1090  1090  0.154659       1.0\n",
       " 1091  1091 -0.547513       1.0\n",
       " 1092  1092  1.373148       1.0\n",
       " 1093  1093  1.430078       1.0\n",
       " \n",
       " [1094 rows x 3 columns])"
      ]
     },
     "execution_count": 363,
     "metadata": {},
     "output_type": "execute_result"
    }
   ],
   "source": [
    "res[0]"
   ]
  },
  {
   "cell_type": "markdown",
   "id": "45254edd-6b02-4bc6-bd7f-a1bb8dad6b87",
   "metadata": {},
   "source": [
    "### Given these numbers, call get the scores"
   ]
  },
  {
   "cell_type": "markdown",
   "id": "f534954d-b614-490c-a02c-f462aefa925c",
   "metadata": {},
   "source": [
    "call `summarize_dataset` and then `gen_scores`. \n"
   ]
  },
  {
   "cell_type": "markdown",
   "id": "e1d0f037-21a8-42a0-a51d-c6e27d94d6df",
   "metadata": {
    "tags": []
   },
   "source": [
    "`gen_scores` takes a second argument - the size of the data at the end of the sequence that will be excluded\n",
    "\n",
    "The larger this is, the earlier the prediction is, and  (presumably) the worse the prediction is.\n",
    "\n",
    "Or just call `score_dataset`"
   ]
  },
  {
   "cell_type": "code",
   "execution_count": 364,
   "id": "04426bc1-7913-49e5-8317-9a2a828bd9b0",
   "metadata": {
    "tags": []
   },
   "outputs": [
    {
     "data": {
      "text/html": [
       "<div>\n",
       "<style scoped>\n",
       "    .dataframe tbody tr th:only-of-type {\n",
       "        vertical-align: middle;\n",
       "    }\n",
       "\n",
       "    .dataframe tbody tr th {\n",
       "        vertical-align: top;\n",
       "    }\n",
       "\n",
       "    .dataframe thead th {\n",
       "        text-align: right;\n",
       "    }\n",
       "</style>\n",
       "<table border=\"1\" class=\"dataframe\">\n",
       "  <thead>\n",
       "    <tr style=\"text-align: right;\">\n",
       "      <th></th>\n",
       "      <th>threshold</th>\n",
       "      <th>false_alarm_rate</th>\n",
       "      <th>score</th>\n",
       "    </tr>\n",
       "  </thead>\n",
       "  <tbody>\n",
       "    <tr>\n",
       "      <th>0</th>\n",
       "      <td>-20.0</td>\n",
       "      <td>1.0</td>\n",
       "      <td>1.0</td>\n",
       "    </tr>\n",
       "    <tr>\n",
       "      <th>1</th>\n",
       "      <td>-19.5</td>\n",
       "      <td>1.0</td>\n",
       "      <td>1.0</td>\n",
       "    </tr>\n",
       "    <tr>\n",
       "      <th>2</th>\n",
       "      <td>-19.0</td>\n",
       "      <td>1.0</td>\n",
       "      <td>1.0</td>\n",
       "    </tr>\n",
       "    <tr>\n",
       "      <th>3</th>\n",
       "      <td>-18.5</td>\n",
       "      <td>1.0</td>\n",
       "      <td>1.0</td>\n",
       "    </tr>\n",
       "    <tr>\n",
       "      <th>4</th>\n",
       "      <td>-18.0</td>\n",
       "      <td>1.0</td>\n",
       "      <td>1.0</td>\n",
       "    </tr>\n",
       "    <tr>\n",
       "      <th>...</th>\n",
       "      <td>...</td>\n",
       "      <td>...</td>\n",
       "      <td>...</td>\n",
       "    </tr>\n",
       "    <tr>\n",
       "      <th>275</th>\n",
       "      <td>117.5</td>\n",
       "      <td>0.0</td>\n",
       "      <td>0.0</td>\n",
       "    </tr>\n",
       "    <tr>\n",
       "      <th>276</th>\n",
       "      <td>118.0</td>\n",
       "      <td>0.0</td>\n",
       "      <td>0.0</td>\n",
       "    </tr>\n",
       "    <tr>\n",
       "      <th>277</th>\n",
       "      <td>118.5</td>\n",
       "      <td>0.0</td>\n",
       "      <td>0.0</td>\n",
       "    </tr>\n",
       "    <tr>\n",
       "      <th>278</th>\n",
       "      <td>119.0</td>\n",
       "      <td>0.0</td>\n",
       "      <td>0.0</td>\n",
       "    </tr>\n",
       "    <tr>\n",
       "      <th>279</th>\n",
       "      <td>119.5</td>\n",
       "      <td>0.0</td>\n",
       "      <td>0.0</td>\n",
       "    </tr>\n",
       "  </tbody>\n",
       "</table>\n",
       "<p>280 rows × 3 columns</p>\n",
       "</div>"
      ],
      "text/plain": [
       "     threshold  false_alarm_rate  score\n",
       "0        -20.0               1.0    1.0\n",
       "1        -19.5               1.0    1.0\n",
       "2        -19.0               1.0    1.0\n",
       "3        -18.5               1.0    1.0\n",
       "4        -18.0               1.0    1.0\n",
       "..         ...               ...    ...\n",
       "275      117.5               0.0    0.0\n",
       "276      118.0               0.0    0.0\n",
       "277      118.5               0.0    0.0\n",
       "278      119.0               0.0    0.0\n",
       "279      119.5               0.0    0.0\n",
       "\n",
       "[280 rows x 3 columns]"
      ]
     },
     "execution_count": 364,
     "metadata": {},
     "output_type": "execute_result"
    }
   ],
   "source": [
    "ds= summarize_dataset(res)\n",
    "scores = gen_scores(ds,100)\n",
    "scores"
   ]
  },
  {
   "cell_type": "code",
   "execution_count": 365,
   "id": "e4f34cf7-7cb0-4602-bd22-865b12971ed6",
   "metadata": {
    "tags": []
   },
   "outputs": [],
   "source": [
    "scores= score_dataset(res)\n",
    "scores"
   ]
  },
  {
   "cell_type": "markdown",
   "id": "22954ffa-3403-4132-af7d-39ed5efa0fd9",
   "metadata": {},
   "source": [
    "### plot the results"
   ]
  },
  {
   "cell_type": "code",
   "execution_count": 355,
   "id": "b9bd4546-8bb1-4ec0-b357-bc61d3bf7de6",
   "metadata": {
    "tags": []
   },
   "outputs": [
    {
     "data": {
      "image/png": "[encoded data removed]",
      "text/plain": [
       "<Figure size 640x480 with 1 Axes>"
      ]
     },
     "metadata": {},
     "output_type": "display_data"
    }
   ],
   "source": [
    "gen_plot(scores)"
   ]
  },
  {
   "cell_type": "code",
   "execution_count": null,
   "id": "bf086648-95e7-466a-8f48-0ae2994f3fda",
   "metadata": {},
   "outputs": [],
   "source": []
  }
 ],
 "metadata": {
  "kernelspec": {
   "display_name": "Python [conda env:brainai11]",
   "language": "python",
   "name": "conda-env-brainai11-py"
  },
  "language_info": {
   "codemirror_mode": {
    "name": "ipython",
    "version": 3
   },
   "file_extension": ".py",
   "mimetype": "text/x-python",
   "name": "python",
   "nbconvert_exporter": "python",
   "pygments_lexer": "ipython3",
   "version": "3.11.4"
  }
 },
 "nbformat": 4,
 "nbformat_minor": 5
}
